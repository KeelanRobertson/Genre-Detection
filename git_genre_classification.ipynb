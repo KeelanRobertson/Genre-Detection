{
 "cells": [
  {
   "cell_type": "code",
   "execution_count": 1,
   "metadata": {},
   "outputs": [],
   "source": [
    "import tensorflow as tf\n",
    "import numpy as np\n",
    "import pandas as pd\n",
    "import matplotlib.pyplot as plt\n",
    "import seaborn as sns\n",
    "from sklearn.linear_model import LinearRegression, LogisticRegression\n",
    "from sklearn import metrics\n",
    "from sklearn.model_selection import train_test_split, GridSearchCV\n",
    "from sklearn.preprocessing import LabelEncoder, StandardScaler\n",
    "from tensorflow.keras.utils import to_categorical\n",
    "import scipy.stats.stats as stats\n",
    "from sklearn.metrics import mean_squared_error"
   ]
  },
  {
   "cell_type": "code",
   "execution_count": 2,
   "metadata": {},
   "outputs": [],
   "source": [
    "from tensorflow.keras.models import Sequential"
   ]
  },
  {
   "cell_type": "code",
   "execution_count": 3,
   "metadata": {},
   "outputs": [],
   "source": [
    "from imblearn.under_sampling import RandomUnderSampler\n",
    "from imblearn.over_sampling import SMOTE"
   ]
  },
  {
   "cell_type": "code",
   "execution_count": 4,
   "metadata": {},
   "outputs": [],
   "source": [
    "from sklearn.metrics import classification_report, confusion_matrix"
   ]
  },
  {
   "cell_type": "code",
   "execution_count": 5,
   "metadata": {},
   "outputs": [],
   "source": [
    "from sklearn.neighbors import KNeighborsClassifier"
   ]
  },
  {
   "cell_type": "code",
   "execution_count": 6,
   "metadata": {},
   "outputs": [
    {
     "data": {
      "text/plain": [
       "[PhysicalDevice(name='/physical_device:GPU:0', device_type='GPU')]"
      ]
     },
     "execution_count": 6,
     "metadata": {},
     "output_type": "execute_result"
    }
   ],
   "source": [
    "# check if a gpu is available\n",
    "tf.config.list_physical_devices('GPU')"
   ]
  },
  {
   "cell_type": "code",
   "execution_count": 7,
   "metadata": {},
   "outputs": [],
   "source": [
    "df = pd.read_csv('track_features_final.csv', index_col=0)"
   ]
  },
  {
   "cell_type": "code",
   "execution_count": 8,
   "metadata": {},
   "outputs": [],
   "source": [
    "meta = pd.read_csv('meta_final.csv', index_col = 0)\n",
    "meta.rename(columns={'Track ID': 'track_id'}, inplace=True)\n",
    "tracks = df.merge(meta, on='track_id', how='left')"
   ]
  },
  {
   "cell_type": "code",
   "execution_count": 9,
   "metadata": {},
   "outputs": [
    {
     "data": {
      "text/html": [
       "<div>\n",
       "<style scoped>\n",
       "    .dataframe tbody tr th:only-of-type {\n",
       "        vertical-align: middle;\n",
       "    }\n",
       "\n",
       "    .dataframe tbody tr th {\n",
       "        vertical-align: top;\n",
       "    }\n",
       "\n",
       "    .dataframe thead th {\n",
       "        text-align: right;\n",
       "    }\n",
       "</style>\n",
       "<table border=\"1\" class=\"dataframe\">\n",
       "  <thead>\n",
       "    <tr style=\"text-align: right;\">\n",
       "      <th></th>\n",
       "      <th>track_id</th>\n",
       "      <th>title</th>\n",
       "      <th>artist</th>\n",
       "      <th>genre</th>\n",
       "      <th>acousticness</th>\n",
       "      <th>danceability</th>\n",
       "      <th>energy</th>\n",
       "      <th>instrumentalness</th>\n",
       "      <th>liveness</th>\n",
       "      <th>speechiness</th>\n",
       "      <th>...</th>\n",
       "      <th>mfccs_mean15</th>\n",
       "      <th>mfccs_var15</th>\n",
       "      <th>mfccs_mean16</th>\n",
       "      <th>mfccs_var16</th>\n",
       "      <th>mfccs_mean17</th>\n",
       "      <th>mfccs_var17</th>\n",
       "      <th>mfccs_mean18</th>\n",
       "      <th>mfccs_var18</th>\n",
       "      <th>mfccs_mean19</th>\n",
       "      <th>mfccs_var19</th>\n",
       "    </tr>\n",
       "  </thead>\n",
       "  <tbody>\n",
       "    <tr>\n",
       "      <th>0</th>\n",
       "      <td>2</td>\n",
       "      <td>Food</td>\n",
       "      <td>AWOL</td>\n",
       "      <td>Hip-Hop</td>\n",
       "      <td>0.416675</td>\n",
       "      <td>0.675894</td>\n",
       "      <td>0.634476</td>\n",
       "      <td>0.010628</td>\n",
       "      <td>0.177647</td>\n",
       "      <td>0.159310</td>\n",
       "      <td>...</td>\n",
       "      <td>1.253358</td>\n",
       "      <td>49.994880</td>\n",
       "      <td>-8.481487</td>\n",
       "      <td>53.345783</td>\n",
       "      <td>-2.040749</td>\n",
       "      <td>52.196274</td>\n",
       "      <td>-2.946624</td>\n",
       "      <td>51.77792</td>\n",
       "      <td>0.094077</td>\n",
       "      <td>40.441700</td>\n",
       "    </tr>\n",
       "    <tr>\n",
       "      <th>1</th>\n",
       "      <td>5</td>\n",
       "      <td>This World</td>\n",
       "      <td>AWOL</td>\n",
       "      <td>Hip-Hop</td>\n",
       "      <td>0.043567</td>\n",
       "      <td>0.745566</td>\n",
       "      <td>0.701470</td>\n",
       "      <td>0.000697</td>\n",
       "      <td>0.373143</td>\n",
       "      <td>0.124595</td>\n",
       "      <td>...</td>\n",
       "      <td>0.919858</td>\n",
       "      <td>66.263405</td>\n",
       "      <td>-4.126342</td>\n",
       "      <td>44.906055</td>\n",
       "      <td>-0.580666</td>\n",
       "      <td>44.026913</td>\n",
       "      <td>-1.600445</td>\n",
       "      <td>65.26340</td>\n",
       "      <td>1.350323</td>\n",
       "      <td>64.534930</td>\n",
       "    </tr>\n",
       "    <tr>\n",
       "      <th>2</th>\n",
       "      <td>10</td>\n",
       "      <td>Freeway</td>\n",
       "      <td>Kurt Vile</td>\n",
       "      <td>Pop</td>\n",
       "      <td>0.951670</td>\n",
       "      <td>0.658179</td>\n",
       "      <td>0.924525</td>\n",
       "      <td>0.965427</td>\n",
       "      <td>0.115474</td>\n",
       "      <td>0.032985</td>\n",
       "      <td>...</td>\n",
       "      <td>-0.911099</td>\n",
       "      <td>42.735588</td>\n",
       "      <td>-3.207996</td>\n",
       "      <td>32.780640</td>\n",
       "      <td>3.043154</td>\n",
       "      <td>40.873420</td>\n",
       "      <td>-1.036512</td>\n",
       "      <td>30.22485</td>\n",
       "      <td>3.882601</td>\n",
       "      <td>29.444992</td>\n",
       "    </tr>\n",
       "    <tr>\n",
       "      <th>3</th>\n",
       "      <td>140</td>\n",
       "      <td>Queen Of The Wires</td>\n",
       "      <td>Alec K. Redfearn &amp; the Eyesores</td>\n",
       "      <td>Folk</td>\n",
       "      <td>0.376312</td>\n",
       "      <td>0.734079</td>\n",
       "      <td>0.265685</td>\n",
       "      <td>0.669581</td>\n",
       "      <td>0.085995</td>\n",
       "      <td>0.039068</td>\n",
       "      <td>...</td>\n",
       "      <td>1.239001</td>\n",
       "      <td>43.232227</td>\n",
       "      <td>-5.205992</td>\n",
       "      <td>38.285038</td>\n",
       "      <td>-0.754437</td>\n",
       "      <td>39.603607</td>\n",
       "      <td>-6.319377</td>\n",
       "      <td>47.34824</td>\n",
       "      <td>-1.172379</td>\n",
       "      <td>44.371730</td>\n",
       "    </tr>\n",
       "    <tr>\n",
       "      <th>4</th>\n",
       "      <td>141</td>\n",
       "      <td>Ohio</td>\n",
       "      <td>Alec K. Redfearn &amp; the Eyesores</td>\n",
       "      <td>Folk</td>\n",
       "      <td>0.963657</td>\n",
       "      <td>0.435933</td>\n",
       "      <td>0.075632</td>\n",
       "      <td>0.345493</td>\n",
       "      <td>0.105686</td>\n",
       "      <td>0.026658</td>\n",
       "      <td>...</td>\n",
       "      <td>5.053833</td>\n",
       "      <td>99.240820</td>\n",
       "      <td>-0.170090</td>\n",
       "      <td>91.179344</td>\n",
       "      <td>3.087437</td>\n",
       "      <td>62.452350</td>\n",
       "      <td>-8.665928</td>\n",
       "      <td>70.66697</td>\n",
       "      <td>-1.098168</td>\n",
       "      <td>89.260025</td>\n",
       "    </tr>\n",
       "  </tbody>\n",
       "</table>\n",
       "<p>5 rows × 87 columns</p>\n",
       "</div>"
      ],
      "text/plain": [
       "   track_id               title                           artist    genre  \\\n",
       "0         2                Food                             AWOL  Hip-Hop   \n",
       "1         5          This World                             AWOL  Hip-Hop   \n",
       "2        10             Freeway                        Kurt Vile      Pop   \n",
       "3       140  Queen Of The Wires  Alec K. Redfearn & the Eyesores     Folk   \n",
       "4       141                Ohio  Alec K. Redfearn & the Eyesores     Folk   \n",
       "\n",
       "   acousticness  danceability    energy  instrumentalness  liveness  \\\n",
       "0      0.416675      0.675894  0.634476          0.010628  0.177647   \n",
       "1      0.043567      0.745566  0.701470          0.000697  0.373143   \n",
       "2      0.951670      0.658179  0.924525          0.965427  0.115474   \n",
       "3      0.376312      0.734079  0.265685          0.669581  0.085995   \n",
       "4      0.963657      0.435933  0.075632          0.345493  0.105686   \n",
       "\n",
       "   speechiness  ...  mfccs_mean15  mfccs_var15  mfccs_mean16  mfccs_var16  \\\n",
       "0     0.159310  ...      1.253358    49.994880     -8.481487    53.345783   \n",
       "1     0.124595  ...      0.919858    66.263405     -4.126342    44.906055   \n",
       "2     0.032985  ...     -0.911099    42.735588     -3.207996    32.780640   \n",
       "3     0.039068  ...      1.239001    43.232227     -5.205992    38.285038   \n",
       "4     0.026658  ...      5.053833    99.240820     -0.170090    91.179344   \n",
       "\n",
       "   mfccs_mean17  mfccs_var17  mfccs_mean18  mfccs_var18  mfccs_mean19  \\\n",
       "0     -2.040749    52.196274     -2.946624     51.77792      0.094077   \n",
       "1     -0.580666    44.026913     -1.600445     65.26340      1.350323   \n",
       "2      3.043154    40.873420     -1.036512     30.22485      3.882601   \n",
       "3     -0.754437    39.603607     -6.319377     47.34824     -1.172379   \n",
       "4      3.087437    62.452350     -8.665928     70.66697     -1.098168   \n",
       "\n",
       "   mfccs_var19  \n",
       "0    40.441700  \n",
       "1    64.534930  \n",
       "2    29.444992  \n",
       "3    44.371730  \n",
       "4    89.260025  \n",
       "\n",
       "[5 rows x 87 columns]"
      ]
     },
     "execution_count": 9,
     "metadata": {},
     "output_type": "execute_result"
    }
   ],
   "source": [
    "tracks.head()"
   ]
  },
  {
   "cell_type": "code",
   "execution_count": 10,
   "metadata": {},
   "outputs": [],
   "source": [
    "tracks.dropna(inplace=True)"
   ]
  },
  {
   "cell_type": "code",
   "execution_count": 11,
   "metadata": {},
   "outputs": [],
   "source": [
    "cols = ['zero_crossings', 'tempo_y', 'spec_cent_mean',\n",
    "       'spec_cent_var', 'spectral_rolloff_mean', 'spectral_rolloff_var',\n",
    "       'chroma_mean0', 'chroma_var0', 'chroma_mean1', 'chroma_var1',\n",
    "       'chroma_mean2', 'chroma_var2', 'chroma_mean3', 'chroma_var3',\n",
    "       'chroma_mean4', 'chroma_var4', 'chroma_mean5', 'chroma_var5',\n",
    "       'chroma_mean6', 'chroma_var6', 'chroma_mean7', 'chroma_var7',\n",
    "       'chroma_mean8', 'chroma_var8', 'chroma_mean9', 'chroma_var9',\n",
    "       'chroma_mean10', 'chroma_var10', 'chroma_mean11', 'chroma_var11',\n",
    "       'harm_mean', 'perc_mean', 'harm_var', 'perc_var', 'mfccs_mean0',\n",
    "       'mfccs_var0', 'mfccs_mean1', 'mfccs_var1', 'mfccs_mean2', 'mfccs_var2',\n",
    "       'mfccs_mean3', 'mfccs_var3', 'mfccs_mean4', 'mfccs_var4', 'mfccs_mean5',\n",
    "       'mfccs_var5', 'mfccs_mean6', 'mfccs_var6', 'mfccs_mean7', 'mfccs_var7',\n",
    "       'mfccs_mean8', 'mfccs_var8', 'mfccs_mean9', 'mfccs_var9',\n",
    "       'mfccs_mean10', 'mfccs_var10', 'mfccs_mean11', 'mfccs_var11',\n",
    "       'mfccs_mean12', 'mfccs_var12', 'mfccs_mean13', 'mfccs_var13',\n",
    "       'mfccs_mean14', 'mfccs_var14', 'mfccs_mean15', 'mfccs_var15',\n",
    "       'mfccs_mean16', 'mfccs_var16', 'mfccs_mean17', 'mfccs_var17',\n",
    "       'mfccs_mean18', 'mfccs_var18', 'mfccs_mean19', 'mfccs_var19']"
   ]
  },
  {
   "cell_type": "code",
   "execution_count": null,
   "metadata": {},
   "outputs": [],
   "source": []
  },
  {
   "cell_type": "code",
   "execution_count": 12,
   "metadata": {},
   "outputs": [
    {
     "data": {
      "text/plain": [
       "Folk             587\n",
       "Rock             535\n",
       "Instrumental     456\n",
       "Pop              445\n",
       "Hip-Hop          406\n",
       "Electronic       380\n",
       "International    301\n",
       "Experimental     171\n",
       "Name: genre, dtype: int64"
      ]
     },
     "execution_count": 12,
     "metadata": {},
     "output_type": "execute_result"
    }
   ],
   "source": [
    "tracks.genre.value_counts()"
   ]
  },
  {
   "cell_type": "code",
   "execution_count": 13,
   "metadata": {},
   "outputs": [],
   "source": [
    "# list of features with a low VIF\n",
    "feat_cols= ['spectral_rolloff_mean',\n",
    "     'mfccs_mean7',\n",
    "     'mfccs_mean8',\n",
    "     'mfccs_mean9',\n",
    "     'chroma_mean1',\n",
    "     'chroma_mean4',\n",
    "     'chroma_mean10',\n",
    "     'mfccs_mean10',\n",
    "     'mfccs_mean4',\n",
    "     'mfccs_mean0',\n",
    "     'spec_cent_var',\n",
    "     'mfccs_var7',\n",
    "     'mfccs_var18',\n",
    "     'zero_crossings',\n",
    "     'mfccs_mean2',\n",
    "     'mfccs_mean1',\n",
    "     'mfccs_var6']"
   ]
  },
  {
   "cell_type": "code",
   "execution_count": 14,
   "metadata": {},
   "outputs": [
    {
     "name": "stdout",
     "output_type": "stream",
     "text": [
      "(array([0, 1, 2, 3, 4, 5, 6, 7]), array([469, 469, 469, 469, 469, 469, 469, 469], dtype=int64))\n"
     ]
    }
   ],
   "source": [
    "# oversample the data and split it into train and test\n",
    "X = tracks[feat_cols]\n",
    "y = tracks['genre']\n",
    " \n",
    "converter = LabelEncoder()\n",
    "converter.fit(y)\n",
    "y = converter.transform(y)\n",
    "\n",
    "X_train, X_test, y_train, y_test = train_test_split(X, y, test_size=0.2, random_state=42)\n",
    "sample = SMOTE()\n",
    "X_train, y_train = sample.fit_resample(X_train, y_train)\n",
    "print(np.unique(y_train, return_counts=True))"
   ]
  },
  {
   "cell_type": "code",
   "execution_count": null,
   "metadata": {},
   "outputs": [],
   "source": []
  },
  {
   "cell_type": "code",
   "execution_count": null,
   "metadata": {},
   "outputs": [],
   "source": []
  },
  {
   "cell_type": "code",
   "execution_count": null,
   "metadata": {},
   "outputs": [],
   "source": []
  },
  {
   "cell_type": "markdown",
   "metadata": {},
   "source": [
    "# Logistic Regression"
   ]
  },
  {
   "cell_type": "code",
   "execution_count": 15,
   "metadata": {},
   "outputs": [],
   "source": [
    "param_grid = {'C' : np.logspace(-4, 4, 20),\n",
    "              'solver' : ['newton-cg', 'lbfgs'],}"
   ]
  },
  {
   "cell_type": "code",
   "execution_count": 16,
   "metadata": {},
   "outputs": [],
   "source": [
    "lr = GridSearchCV(estimator = LogisticRegression(), param_grid = param_grid, cv = 5, verbose=True, n_jobs=-1)"
   ]
  },
  {
   "cell_type": "code",
   "execution_count": 17,
   "metadata": {},
   "outputs": [
    {
     "name": "stdout",
     "output_type": "stream",
     "text": [
      "Fitting 5 folds for each of 40 candidates, totalling 200 fits\n"
     ]
    },
    {
     "name": "stderr",
     "output_type": "stream",
     "text": [
      "C:\\Users\\vijal\\.conda\\envs\\gputest\\lib\\site-packages\\scipy\\optimize\\linesearch.py:466: LineSearchWarning: The line search algorithm did not converge\n",
      "  warn('The line search algorithm did not converge', LineSearchWarning)\n",
      "C:\\Users\\vijal\\.conda\\envs\\gputest\\lib\\site-packages\\scipy\\optimize\\linesearch.py:314: LineSearchWarning: The line search algorithm did not converge\n",
      "  warn('The line search algorithm did not converge', LineSearchWarning)\n",
      "C:\\Users\\vijal\\.conda\\envs\\gputest\\lib\\site-packages\\sklearn\\utils\\optimize.py:203: ConvergenceWarning: newton-cg failed to converge. Increase the number of iterations.\n",
      "  \"number of iterations.\", ConvergenceWarning)\n"
     ]
    },
    {
     "data": {
      "text/plain": [
       "GridSearchCV(cv=5, estimator=LogisticRegression(), n_jobs=-1,\n",
       "             param_grid={'C': array([1.00000000e-04, 2.63665090e-04, 6.95192796e-04, 1.83298071e-03,\n",
       "       4.83293024e-03, 1.27427499e-02, 3.35981829e-02, 8.85866790e-02,\n",
       "       2.33572147e-01, 6.15848211e-01, 1.62377674e+00, 4.28133240e+00,\n",
       "       1.12883789e+01, 2.97635144e+01, 7.84759970e+01, 2.06913808e+02,\n",
       "       5.45559478e+02, 1.43844989e+03, 3.79269019e+03, 1.00000000e+04]),\n",
       "                         'solver': ['newton-cg', 'lbfgs']},\n",
       "             verbose=True)"
      ]
     },
     "execution_count": 17,
     "metadata": {},
     "output_type": "execute_result"
    }
   ],
   "source": [
    "lr.fit(X_train, y_train)"
   ]
  },
  {
   "cell_type": "code",
   "execution_count": 18,
   "metadata": {},
   "outputs": [
    {
     "data": {
      "text/plain": [
       "{'C': 78.47599703514607, 'solver': 'newton-cg'}"
      ]
     },
     "execution_count": 18,
     "metadata": {},
     "output_type": "execute_result"
    }
   ],
   "source": [
    "lr.best_params_"
   ]
  },
  {
   "cell_type": "code",
   "execution_count": 19,
   "metadata": {},
   "outputs": [],
   "source": [
    "lr_pred_train = lr.predict(X_train)"
   ]
  },
  {
   "cell_type": "code",
   "execution_count": 20,
   "metadata": {},
   "outputs": [
    {
     "name": "stdout",
     "output_type": "stream",
     "text": [
      "              precision    recall  f1-score   support\n",
      "\n",
      "           0       0.32      0.34      0.33       469\n",
      "           1       0.26      0.11      0.15       469\n",
      "           2       0.46      0.46      0.46       469\n",
      "           3       0.52      0.59      0.55       469\n",
      "           4       0.49      0.61      0.54       469\n",
      "           5       0.41      0.41      0.41       469\n",
      "           6       0.33      0.21      0.26       469\n",
      "           7       0.46      0.68      0.55       469\n",
      "\n",
      "    accuracy                           0.43      3752\n",
      "   macro avg       0.41      0.43      0.41      3752\n",
      "weighted avg       0.41      0.43      0.41      3752\n",
      "\n",
      "[[161  19  15 115  70  32  12  45]\n",
      " [ 58  51  61  25  80  69  33  92]\n",
      " [ 18  23 218   9  80  43  45  33]\n",
      " [ 74  22  11 277   9  15  24  37]\n",
      " [ 36  14  55   7 288  27   6  36]\n",
      " [ 53  35  42  44  28 192  50  25]\n",
      " [ 76  20  57  38  16  62  98 102]\n",
      " [ 25  13  20  22  20  23  27 319]]\n"
     ]
    }
   ],
   "source": [
    "print(classification_report(y_train, lr_pred_train))\n",
    "print(metrics.confusion_matrix(y_train, lr_pred_train))"
   ]
  },
  {
   "cell_type": "code",
   "execution_count": 21,
   "metadata": {},
   "outputs": [],
   "source": [
    "lr_pred_test = lr.predict(X_test)"
   ]
  },
  {
   "cell_type": "code",
   "execution_count": 22,
   "metadata": {},
   "outputs": [
    {
     "name": "stdout",
     "output_type": "stream",
     "text": [
      "              precision    recall  f1-score   support\n",
      "\n",
      "           0       0.38      0.47      0.42        75\n",
      "           1       0.06      0.07      0.07        29\n",
      "           2       0.59      0.48      0.53       118\n",
      "           3       0.46      0.51      0.48        87\n",
      "           4       0.51      0.51      0.51        81\n",
      "           5       0.32      0.40      0.35        65\n",
      "           6       0.33      0.17      0.23        87\n",
      "           7       0.57      0.65      0.61       115\n",
      "\n",
      "    accuracy                           0.45       657\n",
      "   macro avg       0.40      0.41      0.40       657\n",
      "weighted avg       0.45      0.45      0.44       657\n",
      "\n",
      "[[35  0  3 18  4  4  4  7]\n",
      " [ 2  2  7  2  5  4  2  5]\n",
      " [ 6  5 57  3 18 14  8  7]\n",
      " [19  7  1 44  1  4  5  6]\n",
      " [ 3  3  8  6 41  8  4  8]\n",
      " [11  5  3  8  2 26  6  4]\n",
      " [10  3 12  9  5 13 15 20]\n",
      " [ 7  6  6  6  4  9  2 75]]\n"
     ]
    }
   ],
   "source": [
    "print(classification_report(y_test, lr_pred_test))\n",
    "print(metrics.confusion_matrix(y_test, lr_pred_test))"
   ]
  },
  {
   "cell_type": "code",
   "execution_count": null,
   "metadata": {},
   "outputs": [],
   "source": []
  },
  {
   "cell_type": "markdown",
   "metadata": {},
   "source": [
    "# KNN"
   ]
  },
  {
   "cell_type": "code",
   "execution_count": 44,
   "metadata": {},
   "outputs": [
    {
     "name": "stdout",
     "output_type": "stream",
     "text": [
      "(array([0, 1, 2, 3, 4, 5, 6, 7]), array([469, 469, 469, 469, 469, 469, 469, 469], dtype=int64))\n"
     ]
    }
   ],
   "source": [
    "# oversample the data and split it into train and test\n",
    "X = tracks[cols]\n",
    "y = tracks['genre']\n",
    " \n",
    "converter = LabelEncoder()\n",
    "converter.fit(y)\n",
    "y = converter.transform(y)\n",
    "\n",
    "X_train, X_test, y_train, y_test = train_test_split(X, y, test_size=0.2, random_state=42)\n",
    "sample = SMOTE()\n",
    "X_train, y_train = sample.fit_resample(X_train, y_train)\n",
    "print(np.unique(y_train, return_counts=True))"
   ]
  },
  {
   "cell_type": "code",
   "execution_count": 45,
   "metadata": {},
   "outputs": [],
   "source": [
    "# scale the train and test sets using the min-max scaler\n",
    "from sklearn.preprocessing import MinMaxScaler\n",
    "scaler = MinMaxScaler()\n",
    "scaler.fit(X_train)\n",
    "\n",
    "X_train = scaler.transform(X_train)\n",
    "X_test = scaler.transform(X_test)"
   ]
  },
  {
   "cell_type": "code",
   "execution_count": 46,
   "metadata": {},
   "outputs": [],
   "source": [
    "# calculate the error for 40 iterations of KNN\n",
    "errors = []\n",
    "\n",
    "for i in range(1, 40):\n",
    "    knn = KNeighborsClassifier(n_neighbors=i)\n",
    "    knn.fit(X_train, y_train)\n",
    "    pred_i = knn.predict(X_test)\n",
    "    errors.append(np.mean(pred_i != y_test))"
   ]
  },
  {
   "cell_type": "code",
   "execution_count": 47,
   "metadata": {},
   "outputs": [
    {
     "data": {
      "image/png": "[encoded data removed]",
      "text/plain": [
       "<Figure size 864x432 with 1 Axes>"
      ]
     },
     "metadata": {
      "needs_background": "light"
     },
     "output_type": "display_data"
    }
   ],
   "source": [
    "# plot the error against the k-value\n",
    "plt.figure(figsize=(12, 6))\n",
    "plt.plot(range(1, 40)\n",
    "         , errors\n",
    "         , color='black'\n",
    "         , linestyle='dashed'\n",
    "         , marker='o'\n",
    "         , markerfacecolor='grey'\n",
    "         , markersize=10)\n",
    "plt.title('Error Rate K Value')\n",
    "plt.xlabel('K Value')\n",
    "plt.ylabel('Mean Error')\n",
    "plt.show()"
   ]
  },
  {
   "cell_type": "code",
   "execution_count": 48,
   "metadata": {},
   "outputs": [
    {
     "data": {
      "text/plain": [
       "KNeighborsClassifier(n_neighbors=10)"
      ]
     },
     "execution_count": 48,
     "metadata": {},
     "output_type": "execute_result"
    }
   ],
   "source": [
    "classifier = KNeighborsClassifier(n_neighbors=10)\n",
    "classifier.fit(X_train, y_train)"
   ]
  },
  {
   "cell_type": "code",
   "execution_count": 49,
   "metadata": {},
   "outputs": [],
   "source": [
    "knn_pred_train = classifier.predict(X_train)"
   ]
  },
  {
   "cell_type": "code",
   "execution_count": 50,
   "metadata": {},
   "outputs": [
    {
     "name": "stdout",
     "output_type": "stream",
     "text": [
      "              precision    recall  f1-score   support\n",
      "\n",
      "           0       0.70      0.63      0.66       469\n",
      "           1       0.67      0.86      0.75       469\n",
      "           2       0.71      0.54      0.61       469\n",
      "           3       0.61      0.81      0.70       469\n",
      "           4       0.81      0.58      0.68       469\n",
      "           5       0.55      0.78      0.64       469\n",
      "           6       0.55      0.45      0.49       469\n",
      "           7       0.75      0.58      0.66       469\n",
      "\n",
      "    accuracy                           0.65      3752\n",
      "   macro avg       0.67      0.65      0.65      3752\n",
      "weighted avg       0.67      0.65      0.65      3752\n",
      "\n",
      "[[295  21  10  70  13  32  20   8]\n",
      " [  8 403   4  15   2  17   8  12]\n",
      " [  9  38 254   7  26  73  46  16]\n",
      " [ 44   5   1 381   3  20  10   5]\n",
      " [ 15  48  44  24 273  34  19  12]\n",
      " [  9  17   5  47   3 364  18   6]\n",
      " [ 20  38  29  54   7  81 209  31]\n",
      " [ 22  35  11  26   9  46  47 273]]\n"
     ]
    }
   ],
   "source": [
    "print(classification_report(y_train, knn_pred_train))\n",
    "print(confusion_matrix(y_train, knn_pred_train))"
   ]
  },
  {
   "cell_type": "code",
   "execution_count": 52,
   "metadata": {},
   "outputs": [],
   "source": [
    "knn_pred_test = classifier.predict(X_test)"
   ]
  },
  {
   "cell_type": "code",
   "execution_count": 53,
   "metadata": {},
   "outputs": [
    {
     "name": "stdout",
     "output_type": "stream",
     "text": [
      "              precision    recall  f1-score   support\n",
      "\n",
      "           0       0.35      0.32      0.34        75\n",
      "           1       0.14      0.28      0.18        29\n",
      "           2       0.59      0.46      0.51       118\n",
      "           3       0.57      0.71      0.63        87\n",
      "           4       0.63      0.38      0.48        81\n",
      "           5       0.30      0.60      0.40        65\n",
      "           6       0.28      0.22      0.24        87\n",
      "           7       0.65      0.44      0.53       115\n",
      "\n",
      "    accuracy                           0.44       657\n",
      "   macro avg       0.44      0.43      0.41       657\n",
      "weighted avg       0.48      0.44      0.44       657\n",
      "\n",
      "[[24  3  5 19  2  7  8  7]\n",
      " [ 3  8  3  1  1  7  3  3]\n",
      " [ 1 12 54  2  7 29 12  1]\n",
      " [13  1  0 62  0  6  3  2]\n",
      " [ 6  3 16  3 31 11  7  4]\n",
      " [ 5  8  3  5  1 39  2  2]\n",
      " [ 7 11  7 12  5 17 19  9]\n",
      " [ 9 13  4  5  2 16 15 51]]\n"
     ]
    }
   ],
   "source": [
    "print(classification_report(y_test, knn_pred_test))\n",
    "print(confusion_matrix(y_test, knn_pred_test))"
   ]
  },
  {
   "cell_type": "code",
   "execution_count": null,
   "metadata": {},
   "outputs": [],
   "source": []
  },
  {
   "cell_type": "markdown",
   "metadata": {},
   "source": [
    "# Random Forests"
   ]
  },
  {
   "cell_type": "code",
   "execution_count": 54,
   "metadata": {},
   "outputs": [],
   "source": [
    "from sklearn.ensemble import RandomForestClassifier"
   ]
  },
  {
   "cell_type": "code",
   "execution_count": 55,
   "metadata": {},
   "outputs": [
    {
     "name": "stdout",
     "output_type": "stream",
     "text": [
      "(array([0, 1, 2, 3, 4, 5, 6, 7]), array([469, 469, 469, 469, 469, 469, 469, 469], dtype=int64))\n"
     ]
    }
   ],
   "source": [
    "# oversample the data and split it into train and test\n",
    "X = tracks[cols]\n",
    "y = tracks['genre']\n",
    " \n",
    "converter = LabelEncoder()\n",
    "converter.fit(y)\n",
    "y = converter.transform(y)\n",
    "\n",
    "X_train, X_test, y_train, y_test = train_test_split(X, y, test_size=0.2, random_state=42)\n",
    "sample = SMOTE()\n",
    "X_train, y_train = sample.fit_resample(X_train, y_train)\n",
    "print(np.unique(y_train, return_counts=True))"
   ]
  },
  {
   "cell_type": "code",
   "execution_count": null,
   "metadata": {},
   "outputs": [],
   "source": [
    "rf_params = {\n",
    "    'n_estimators': [200,400,600],\n",
    "    'max_depth': [2,4,6,8],\n",
    "    'max_features' : [15,25,35],\n",
    "    \n",
    "}"
   ]
  },
  {
   "cell_type": "code",
   "execution_count": 56,
   "metadata": {},
   "outputs": [
    {
     "name": "stdout",
     "output_type": "stream",
     "text": [
      "Fitting 5 folds for each of 27 candidates, totalling 135 fits\n"
     ]
    },
    {
     "data": {
      "text/plain": [
       "{'max_depth': 100, 'max_features': 40, 'n_estimators': 300}"
      ]
     },
     "execution_count": 56,
     "metadata": {},
     "output_type": "execute_result"
    }
   ],
   "source": [
    "rf_params = {\n",
    "    'n_estimators': [100, 200, 300],\n",
    "    'max_depth': [100, 200, 300],\n",
    "    'max_features' : [40, 50 , 60],\n",
    "    \n",
    "}\n",
    "\n",
    "rf = GridSearchCV(estimator=RandomForestClassifier(), param_grid=rf_params, cv=5, verbose=3, n_jobs=-2)\n",
    "\n",
    "rf.fit(X_train, y_train)\n",
    "\n",
    "rf.best_params_"
   ]
  },
  {
   "cell_type": "code",
   "execution_count": 57,
   "metadata": {},
   "outputs": [],
   "source": [
    "rf_pred_train = rf.predict(X_train)"
   ]
  },
  {
   "cell_type": "code",
   "execution_count": 58,
   "metadata": {},
   "outputs": [
    {
     "name": "stdout",
     "output_type": "stream",
     "text": [
      "              precision    recall  f1-score   support\n",
      "\n",
      "           0       0.34      0.38      0.36       469\n",
      "           1       0.23      0.11      0.15       469\n",
      "           2       0.46      0.46      0.46       469\n",
      "           3       0.50      0.59      0.54       469\n",
      "           4       0.49      0.60      0.54       469\n",
      "           5       0.43      0.43      0.43       469\n",
      "           6       0.33      0.19      0.24       469\n",
      "           7       0.46      0.69      0.55       469\n",
      "\n",
      "    accuracy                           0.43      3752\n",
      "   macro avg       0.41      0.43      0.41      3752\n",
      "weighted avg       0.41      0.43      0.41      3752\n",
      "\n",
      "[[177  23  12 110  62  31  17  37]\n",
      " [ 66  50  67  25  65  63  27 106]\n",
      " [ 19  27 218   8  79  43  39  36]\n",
      " [ 78  23  12 276  11  15  22  32]\n",
      " [ 38  18  56  11 280  24   7  35]\n",
      " [ 46  41  32  54  30 200  40  26]\n",
      " [ 70  22  57  45  21  64  88 102]\n",
      " [ 25  12  19  22  22  22  25 322]]\n"
     ]
    }
   ],
   "source": [
    "print(classification_report(y_train, lr_pred_train))\n",
    "print(metrics.confusion_matrix(y_train, lr_pred_train))"
   ]
  },
  {
   "cell_type": "code",
   "execution_count": 61,
   "metadata": {},
   "outputs": [],
   "source": [
    "rf_pred_test = rf.predict(X_test)"
   ]
  },
  {
   "cell_type": "code",
   "execution_count": 62,
   "metadata": {},
   "outputs": [
    {
     "name": "stdout",
     "output_type": "stream",
     "text": [
      "              precision    recall  f1-score   support\n",
      "\n",
      "           0       0.47      0.44      0.46        75\n",
      "           1       0.30      0.24      0.27        29\n",
      "           2       0.62      0.69      0.66       118\n",
      "           3       0.66      0.75      0.70        87\n",
      "           4       0.63      0.51      0.56        81\n",
      "           5       0.47      0.55      0.51        65\n",
      "           6       0.35      0.33      0.34        87\n",
      "           7       0.66      0.63      0.64       115\n",
      "\n",
      "    accuracy                           0.56       657\n",
      "   macro avg       0.52      0.52      0.52       657\n",
      "weighted avg       0.55      0.56      0.55       657\n",
      "\n",
      "[[33  2  1 13  5  4  9  8]\n",
      " [ 2  7  4  1  4  3  3  5]\n",
      " [ 1  1 82  2 10  8 14  0]\n",
      " [13  0  0 65  1  4  2  2]\n",
      " [ 5  3 14  1 41  7  5  5]\n",
      " [ 4  0  5  7  1 36 10  2]\n",
      " [ 7  5 17  5  2  7 29 15]\n",
      " [ 5  5  9  4  1  8 11 72]]\n"
     ]
    }
   ],
   "source": [
    "print(classification_report(y_test, rf_pred_test))\n",
    "print(metrics.confusion_matrix(y_test, rf_pred_test))"
   ]
  },
  {
   "cell_type": "code",
   "execution_count": null,
   "metadata": {},
   "outputs": [],
   "source": []
  },
  {
   "cell_type": "code",
   "execution_count": null,
   "metadata": {},
   "outputs": [],
   "source": []
  },
  {
   "cell_type": "code",
   "execution_count": 63,
   "metadata": {},
   "outputs": [
    {
     "name": "stdout",
     "output_type": "stream",
     "text": [
      "Fitting 5 folds for each of 84 candidates, totalling 420 fits\n"
     ]
    },
    {
     "data": {
      "text/plain": [
       "{'max_depth': 150, 'max_features': 25, 'n_estimators': 400}"
      ]
     },
     "execution_count": 63,
     "metadata": {},
     "output_type": "execute_result"
    }
   ],
   "source": [
    "rf_params = {\n",
    "    'n_estimators': [200,400,600],\n",
    "    'max_depth': [2,4,6,8,50,100,150],\n",
    "    'max_features' : [15,25,35,45],\n",
    "    \n",
    "}\n",
    "rf = GridSearchCV(estimator=RandomForestClassifier(), param_grid=rf_params, cv=5, verbose=3, n_jobs=-2)\n",
    "\n",
    "rf.fit(X_train, y_train)\n",
    "\n",
    "rf.best_params_"
   ]
  },
  {
   "cell_type": "code",
   "execution_count": 64,
   "metadata": {},
   "outputs": [],
   "source": [
    "rf_pred_train = rf.predict(X_train)"
   ]
  },
  {
   "cell_type": "code",
   "execution_count": 65,
   "metadata": {},
   "outputs": [
    {
     "name": "stdout",
     "output_type": "stream",
     "text": [
      "              precision    recall  f1-score   support\n",
      "\n",
      "           0       0.34      0.38      0.36       469\n",
      "           1       0.23      0.11      0.15       469\n",
      "           2       0.46      0.46      0.46       469\n",
      "           3       0.50      0.59      0.54       469\n",
      "           4       0.49      0.60      0.54       469\n",
      "           5       0.43      0.43      0.43       469\n",
      "           6       0.33      0.19      0.24       469\n",
      "           7       0.46      0.69      0.55       469\n",
      "\n",
      "    accuracy                           0.43      3752\n",
      "   macro avg       0.41      0.43      0.41      3752\n",
      "weighted avg       0.41      0.43      0.41      3752\n",
      "\n",
      "[[177  23  12 110  62  31  17  37]\n",
      " [ 66  50  67  25  65  63  27 106]\n",
      " [ 19  27 218   8  79  43  39  36]\n",
      " [ 78  23  12 276  11  15  22  32]\n",
      " [ 38  18  56  11 280  24   7  35]\n",
      " [ 46  41  32  54  30 200  40  26]\n",
      " [ 70  22  57  45  21  64  88 102]\n",
      " [ 25  12  19  22  22  22  25 322]]\n"
     ]
    }
   ],
   "source": [
    "print(classification_report(y_train, lr_pred_train))\n",
    "print(metrics.confusion_matrix(y_train, lr_pred_train))"
   ]
  },
  {
   "cell_type": "code",
   "execution_count": 66,
   "metadata": {},
   "outputs": [],
   "source": [
    "rf_pred_test = rf.predict(X_test)"
   ]
  },
  {
   "cell_type": "code",
   "execution_count": 68,
   "metadata": {},
   "outputs": [
    {
     "name": "stdout",
     "output_type": "stream",
     "text": [
      "               precision    recall  f1-score   support\n",
      "\n",
      "   Electronic       0.44      0.41      0.43        75\n",
      " Experimental       0.39      0.31      0.35        29\n",
      "         Folk       0.64      0.69      0.67       118\n",
      "      Hip-Hop       0.64      0.72      0.68        87\n",
      " Instrumental       0.60      0.51      0.55        81\n",
      "International       0.49      0.55      0.52        65\n",
      "          Pop       0.41      0.38      0.39        87\n",
      "         Rock       0.65      0.65      0.65       115\n",
      "\n",
      "     accuracy                           0.56       657\n",
      "    macro avg       0.53      0.53      0.53       657\n",
      " weighted avg       0.56      0.56      0.56       657\n",
      "\n",
      "[[31  2  2 16  5  2  9  8]\n",
      " [ 1  9  4  1  6  2  3  3]\n",
      " [ 1  0 82  2 10 10 12  1]\n",
      " [15  1  1 63  1  3  1  2]\n",
      " [ 5  4 12  1 41  7  6  5]\n",
      " [ 6  0  3  6  1 36  9  4]\n",
      " [ 4  3 16  6  2  6 33 17]\n",
      " [ 7  4  8  3  2  8  8 75]]\n"
     ]
    }
   ],
   "source": [
    "print(classification_report(converter.inverse_transform(y_test), converter.inverse_transform(rf_pred_test)))\n",
    "print(metrics.confusion_matrix(y_test, rf_pred_test))"
   ]
  },
  {
   "cell_type": "code",
   "execution_count": null,
   "metadata": {},
   "outputs": [],
   "source": []
  },
  {
   "cell_type": "code",
   "execution_count": null,
   "metadata": {},
   "outputs": [],
   "source": []
  },
  {
   "cell_type": "code",
   "execution_count": null,
   "metadata": {},
   "outputs": [],
   "source": []
  },
  {
   "cell_type": "code",
   "execution_count": null,
   "metadata": {},
   "outputs": [],
   "source": []
  },
  {
   "cell_type": "code",
   "execution_count": null,
   "metadata": {},
   "outputs": [],
   "source": []
  },
  {
   "cell_type": "markdown",
   "metadata": {},
   "source": [
    "# Neural Network"
   ]
  },
  {
   "cell_type": "code",
   "execution_count": 12,
   "metadata": {},
   "outputs": [
    {
     "name": "stdout",
     "output_type": "stream",
     "text": [
      "(array([0, 1, 2, 3, 4, 5, 6, 7]), array([469, 469, 469, 469, 469, 469, 469, 469], dtype=int64))\n"
     ]
    }
   ],
   "source": [
    "# oversample the data and split it into train and test\n",
    "X = tracks[cols]\n",
    "\n",
    "scaler = StandardScaler()\n",
    "scaler.fit(X)\n",
    "X = scaler.transform(X)\n",
    "y = tracks['genre']\n",
    " \n",
    "converter = LabelEncoder()\n",
    "converter.fit(y)\n",
    "y = converter.transform(y)\n",
    "\n",
    "X_train, X_test, y_train, y_test = train_test_split(X, y, test_size=0.2, random_state=42)\n",
    "\n",
    "sample = SMOTE()\n",
    "X_train, y_train = sample.fit_resample(X_train, y_train)\n",
    "print(np.unique(y_train, return_counts=True))\n",
    "y_train = to_categorical(y_train)\n",
    "y_test = to_categorical(y_test)"
   ]
  },
  {
   "cell_type": "code",
   "execution_count": 49,
   "metadata": {},
   "outputs": [],
   "source": [
    "# clear any previous tensorflow sessions\n",
    "tf.keras.backend.clear_session()"
   ]
  },
  {
   "cell_type": "code",
   "execution_count": 50,
   "metadata": {},
   "outputs": [
    {
     "name": "stdout",
     "output_type": "stream",
     "text": [
      "Model: \"sequential\"\n",
      "_________________________________________________________________\n",
      "Layer (type)                 Output Shape              Param #   \n",
      "=================================================================\n",
      "dense (Dense)                (None, 512)               38400     \n",
      "_________________________________________________________________\n",
      "dropout (Dropout)            (None, 512)               0         \n",
      "_________________________________________________________________\n",
      "dense_1 (Dense)              (None, 256)               131328    \n",
      "_________________________________________________________________\n",
      "dropout_1 (Dropout)          (None, 256)               0         \n",
      "_________________________________________________________________\n",
      "dense_2 (Dense)              (None, 128)               32896     \n",
      "_________________________________________________________________\n",
      "dropout_2 (Dropout)          (None, 128)               0         \n",
      "_________________________________________________________________\n",
      "dense_3 (Dense)              (None, 64)                8256      \n",
      "_________________________________________________________________\n",
      "dropout_3 (Dropout)          (None, 64)                0         \n",
      "_________________________________________________________________\n",
      "dense_4 (Dense)              (None, 8)                 520       \n",
      "=================================================================\n",
      "Total params: 211,400\n",
      "Trainable params: 211,400\n",
      "Non-trainable params: 0\n",
      "_________________________________________________________________\n",
      "None\n"
     ]
    }
   ],
   "source": [
    "model = Sequential([\n",
    "    tf.keras.layers.Dense(512, activation='relu', input_shape=(X_train.shape[1],)), #kernel_initializer=tf.keras.initializers.RandomNormal(mean=0.0, stddev=0.05, seed=None)),\n",
    "    #tf.keras.layers.BatchNormalization(),\n",
    "    tf.keras.layers.Dropout(0.2),\n",
    "    \n",
    "    tf.keras.layers.Dense(256, activation='relu'),\n",
    "    #tf.keras.layers.BatchNormalization(),\n",
    "    tf.keras.layers.Dropout(0.2),\n",
    "    \n",
    "    tf.keras.layers.Dense(128, activation='relu'),\n",
    "    #tf.keras.layers.BatchNormalization(),\n",
    "    tf.keras.layers.Dropout(0.2),\n",
    "    \n",
    "    tf.keras.layers.Dense(64, activation='relu'),\n",
    "    #tf.keras.layers.BatchNormalization(),\n",
    "    tf.keras.layers.Dropout(0.2),\n",
    "    \n",
    "#     tf.keras.layers.Dense(32, activation='relu'),\n",
    "#     #tf.keras.layers.BatchNormalization(),\n",
    "#     tf.keras.layers.Dropout(0.2),\n",
    "    \n",
    "    tf.keras.layers.Dense(8, activation='softmax'),\n",
    "])\n",
    "print(model.summary())"
   ]
  },
  {
   "cell_type": "code",
   "execution_count": 51,
   "metadata": {},
   "outputs": [],
   "source": [
    "# create a callback to prevent overfitting\n",
    "callback = tf.keras.callbacks.EarlyStopping(monitor='loss', patience=5)"
   ]
  },
  {
   "cell_type": "code",
   "execution_count": 52,
   "metadata": {},
   "outputs": [],
   "source": [
    "optimizer = tf.keras.optimizers.Adam(learning_rate=0.00002)\n",
    "loss = tf.keras.losses.CategoricalCrossentropy()\n",
    "model.compile(optimizer=optimizer,\n",
    "              loss=loss,\n",
    "              metrics='accuracy')"
   ]
  },
  {
   "cell_type": "code",
   "execution_count": 53,
   "metadata": {
    "collapsed": true,
    "jupyter": {
     "outputs_hidden": true
    },
    "tags": []
   },
   "outputs": [
    {
     "name": "stdout",
     "output_type": "stream",
     "text": [
      "Epoch 1/600\n",
      "15/15 [==============================] - 0s 16ms/step - loss: 2.1116 - accuracy: 0.1189 - val_loss: 2.0752 - val_accuracy: 0.1202\n",
      "Epoch 2/600\n",
      "15/15 [==============================] - 0s 4ms/step - loss: 2.0974 - accuracy: 0.1282 - val_loss: 2.0628 - val_accuracy: 0.1507\n",
      "Epoch 3/600\n",
      "15/15 [==============================] - 0s 4ms/step - loss: 2.0862 - accuracy: 0.1410 - val_loss: 2.0511 - val_accuracy: 0.1796\n",
      "Epoch 4/600\n",
      "15/15 [==============================] - 0s 4ms/step - loss: 2.0722 - accuracy: 0.1503 - val_loss: 2.0405 - val_accuracy: 0.2085\n",
      "Epoch 5/600\n",
      "15/15 [==============================] - 0s 5ms/step - loss: 2.0526 - accuracy: 0.1631 - val_loss: 2.0298 - val_accuracy: 0.2374\n",
      "Epoch 6/600\n",
      "15/15 [==============================] - 0s 5ms/step - loss: 2.0450 - accuracy: 0.1714 - val_loss: 2.0193 - val_accuracy: 0.2481\n",
      "Epoch 7/600\n",
      "15/15 [==============================] - 0s 4ms/step - loss: 2.0350 - accuracy: 0.1839 - val_loss: 2.0080 - val_accuracy: 0.2755\n",
      "Epoch 8/600\n",
      "15/15 [==============================] - 0s 5ms/step - loss: 2.0242 - accuracy: 0.1914 - val_loss: 1.9962 - val_accuracy: 0.2907\n",
      "Epoch 9/600\n",
      "15/15 [==============================] - 0s 4ms/step - loss: 2.0167 - accuracy: 0.2055 - val_loss: 1.9849 - val_accuracy: 0.3075\n",
      "Epoch 10/600\n",
      "15/15 [==============================] - 0s 5ms/step - loss: 2.0040 - accuracy: 0.2188 - val_loss: 1.9724 - val_accuracy: 0.3227\n",
      "Epoch 11/600\n",
      "15/15 [==============================] - 0s 5ms/step - loss: 1.9961 - accuracy: 0.2244 - val_loss: 1.9593 - val_accuracy: 0.3394\n",
      "Epoch 12/600\n",
      "15/15 [==============================] - 0s 4ms/step - loss: 1.9849 - accuracy: 0.2348 - val_loss: 1.9462 - val_accuracy: 0.3592\n",
      "Epoch 13/600\n",
      "15/15 [==============================] - 0s 4ms/step - loss: 1.9710 - accuracy: 0.2409 - val_loss: 1.9318 - val_accuracy: 0.3790\n",
      "Epoch 14/600\n",
      "15/15 [==============================] - 0s 4ms/step - loss: 1.9603 - accuracy: 0.2583 - val_loss: 1.9168 - val_accuracy: 0.3836\n",
      "Epoch 15/600\n",
      "15/15 [==============================] - 0s 6ms/step - loss: 1.9430 - accuracy: 0.2732 - val_loss: 1.9016 - val_accuracy: 0.4003\n",
      "Epoch 16/600\n",
      "15/15 [==============================] - 0s 5ms/step - loss: 1.9353 - accuracy: 0.2788 - val_loss: 1.8859 - val_accuracy: 0.4049\n",
      "Epoch 17/600\n",
      "15/15 [==============================] - 0s 4ms/step - loss: 1.9201 - accuracy: 0.2799 - val_loss: 1.8694 - val_accuracy: 0.4064\n",
      "Epoch 18/600\n",
      "15/15 [==============================] - 0s 5ms/step - loss: 1.9060 - accuracy: 0.3012 - val_loss: 1.8536 - val_accuracy: 0.4094\n",
      "Epoch 19/600\n",
      "15/15 [==============================] - 0s 5ms/step - loss: 1.8902 - accuracy: 0.3054 - val_loss: 1.8381 - val_accuracy: 0.4125\n",
      "Epoch 20/600\n",
      "15/15 [==============================] - 0s 4ms/step - loss: 1.8826 - accuracy: 0.3076 - val_loss: 1.8224 - val_accuracy: 0.4155\n",
      "Epoch 21/600\n",
      "15/15 [==============================] - 0s 4ms/step - loss: 1.8659 - accuracy: 0.3166 - val_loss: 1.8076 - val_accuracy: 0.4186\n",
      "Epoch 22/600\n",
      "15/15 [==============================] - 0s 5ms/step - loss: 1.8492 - accuracy: 0.3230 - val_loss: 1.7924 - val_accuracy: 0.4231\n",
      "Epoch 23/600\n",
      "15/15 [==============================] - 0s 4ms/step - loss: 1.8472 - accuracy: 0.3188 - val_loss: 1.7787 - val_accuracy: 0.4231\n",
      "Epoch 24/600\n",
      "15/15 [==============================] - 0s 5ms/step - loss: 1.8324 - accuracy: 0.3318 - val_loss: 1.7643 - val_accuracy: 0.4231\n",
      "Epoch 25/600\n",
      "15/15 [==============================] - 0s 5ms/step - loss: 1.8167 - accuracy: 0.3361 - val_loss: 1.7508 - val_accuracy: 0.4201\n",
      "Epoch 26/600\n",
      "15/15 [==============================] - 0s 5ms/step - loss: 1.8000 - accuracy: 0.3489 - val_loss: 1.7384 - val_accuracy: 0.4201\n",
      "Epoch 27/600\n",
      "15/15 [==============================] - 0s 4ms/step - loss: 1.7868 - accuracy: 0.3494 - val_loss: 1.7265 - val_accuracy: 0.4201\n",
      "Epoch 28/600\n",
      "15/15 [==============================] - 0s 5ms/step - loss: 1.7829 - accuracy: 0.3404 - val_loss: 1.7146 - val_accuracy: 0.4201\n",
      "Epoch 29/600\n",
      "15/15 [==============================] - 0s 5ms/step - loss: 1.7662 - accuracy: 0.3643 - val_loss: 1.7039 - val_accuracy: 0.4262\n",
      "Epoch 30/600\n",
      "15/15 [==============================] - 0s 4ms/step - loss: 1.7727 - accuracy: 0.3481 - val_loss: 1.6934 - val_accuracy: 0.4338\n",
      "Epoch 31/600\n",
      "15/15 [==============================] - 0s 4ms/step - loss: 1.7524 - accuracy: 0.3630 - val_loss: 1.6835 - val_accuracy: 0.4338\n",
      "Epoch 32/600\n",
      "15/15 [==============================] - 0s 5ms/step - loss: 1.7464 - accuracy: 0.3643 - val_loss: 1.6744 - val_accuracy: 0.4323\n",
      "Epoch 33/600\n",
      "15/15 [==============================] - 0s 5ms/step - loss: 1.7381 - accuracy: 0.3598 - val_loss: 1.6658 - val_accuracy: 0.4368\n",
      "Epoch 34/600\n",
      "15/15 [==============================] - 0s 4ms/step - loss: 1.7179 - accuracy: 0.3718 - val_loss: 1.6572 - val_accuracy: 0.4384\n",
      "Epoch 35/600\n",
      "15/15 [==============================] - 0s 4ms/step - loss: 1.7195 - accuracy: 0.3654 - val_loss: 1.6490 - val_accuracy: 0.4444\n",
      "Epoch 36/600\n",
      "15/15 [==============================] - 0s 5ms/step - loss: 1.6991 - accuracy: 0.3718 - val_loss: 1.6413 - val_accuracy: 0.4475\n",
      "Epoch 37/600\n",
      "15/15 [==============================] - 0s 5ms/step - loss: 1.7043 - accuracy: 0.3713 - val_loss: 1.6335 - val_accuracy: 0.4490\n",
      "Epoch 38/600\n",
      "15/15 [==============================] - 0s 5ms/step - loss: 1.7035 - accuracy: 0.3774 - val_loss: 1.6275 - val_accuracy: 0.4536\n",
      "Epoch 39/600\n",
      "15/15 [==============================] - 0s 4ms/step - loss: 1.7070 - accuracy: 0.3707 - val_loss: 1.6217 - val_accuracy: 0.4536\n",
      "Epoch 40/600\n",
      "15/15 [==============================] - 0s 4ms/step - loss: 1.6870 - accuracy: 0.3862 - val_loss: 1.6161 - val_accuracy: 0.4566\n",
      "Epoch 41/600\n",
      "15/15 [==============================] - 0s 4ms/step - loss: 1.6774 - accuracy: 0.3777 - val_loss: 1.6096 - val_accuracy: 0.4566\n",
      "Epoch 42/600\n",
      "15/15 [==============================] - 0s 4ms/step - loss: 1.6670 - accuracy: 0.3830 - val_loss: 1.6037 - val_accuracy: 0.4597\n",
      "Epoch 43/600\n",
      "15/15 [==============================] - 0s 4ms/step - loss: 1.6614 - accuracy: 0.3867 - val_loss: 1.5979 - val_accuracy: 0.4597\n",
      "Epoch 44/600\n",
      "15/15 [==============================] - 0s 5ms/step - loss: 1.6519 - accuracy: 0.3931 - val_loss: 1.5914 - val_accuracy: 0.4703\n",
      "Epoch 45/600\n",
      "15/15 [==============================] - 0s 4ms/step - loss: 1.6514 - accuracy: 0.3915 - val_loss: 1.5864 - val_accuracy: 0.4673\n",
      "Epoch 46/600\n",
      "15/15 [==============================] - 0s 4ms/step - loss: 1.6443 - accuracy: 0.3987 - val_loss: 1.5815 - val_accuracy: 0.4673\n",
      "Epoch 47/600\n",
      "15/15 [==============================] - 0s 5ms/step - loss: 1.6433 - accuracy: 0.4006 - val_loss: 1.5774 - val_accuracy: 0.4658\n",
      "Epoch 48/600\n",
      "15/15 [==============================] - 0s 5ms/step - loss: 1.6281 - accuracy: 0.4096 - val_loss: 1.5722 - val_accuracy: 0.4764\n",
      "Epoch 49/600\n",
      "15/15 [==============================] - 0s 5ms/step - loss: 1.6071 - accuracy: 0.4096 - val_loss: 1.5673 - val_accuracy: 0.4764\n",
      "Epoch 50/600\n",
      "15/15 [==============================] - 0s 4ms/step - loss: 1.6074 - accuracy: 0.4128 - val_loss: 1.5623 - val_accuracy: 0.4795\n",
      "Epoch 51/600\n",
      "15/15 [==============================] - 0s 4ms/step - loss: 1.6223 - accuracy: 0.4046 - val_loss: 1.5588 - val_accuracy: 0.4795\n",
      "Epoch 52/600\n",
      "15/15 [==============================] - 0s 4ms/step - loss: 1.6155 - accuracy: 0.4054 - val_loss: 1.5556 - val_accuracy: 0.4840\n",
      "Epoch 53/600\n",
      "15/15 [==============================] - 0s 4ms/step - loss: 1.6032 - accuracy: 0.4062 - val_loss: 1.5508 - val_accuracy: 0.4810\n",
      "Epoch 54/600\n",
      "15/15 [==============================] - 0s 4ms/step - loss: 1.5948 - accuracy: 0.4182 - val_loss: 1.5468 - val_accuracy: 0.4810\n",
      "Epoch 55/600\n",
      "15/15 [==============================] - 0s 4ms/step - loss: 1.5869 - accuracy: 0.4216 - val_loss: 1.5437 - val_accuracy: 0.4810\n",
      "Epoch 56/600\n",
      "15/15 [==============================] - 0s 4ms/step - loss: 1.5853 - accuracy: 0.4174 - val_loss: 1.5404 - val_accuracy: 0.4840\n",
      "Epoch 57/600\n",
      "15/15 [==============================] - 0s 4ms/step - loss: 1.5855 - accuracy: 0.4198 - val_loss: 1.5369 - val_accuracy: 0.4855\n",
      "Epoch 58/600\n",
      "15/15 [==============================] - 0s 5ms/step - loss: 1.5677 - accuracy: 0.4312 - val_loss: 1.5332 - val_accuracy: 0.4871\n",
      "Epoch 59/600\n",
      "15/15 [==============================] - 0s 5ms/step - loss: 1.5661 - accuracy: 0.4278 - val_loss: 1.5301 - val_accuracy: 0.4855\n",
      "Epoch 60/600\n",
      "15/15 [==============================] - 0s 4ms/step - loss: 1.5615 - accuracy: 0.4419 - val_loss: 1.5270 - val_accuracy: 0.4840\n",
      "Epoch 61/600\n",
      "15/15 [==============================] - 0s 4ms/step - loss: 1.5540 - accuracy: 0.4371 - val_loss: 1.5234 - val_accuracy: 0.4855\n",
      "Epoch 62/600\n",
      "15/15 [==============================] - 0s 4ms/step - loss: 1.5574 - accuracy: 0.4344 - val_loss: 1.5198 - val_accuracy: 0.4901\n",
      "Epoch 63/600\n",
      "15/15 [==============================] - 0s 4ms/step - loss: 1.5490 - accuracy: 0.4374 - val_loss: 1.5157 - val_accuracy: 0.4932\n",
      "Epoch 64/600\n",
      "15/15 [==============================] - 0s 5ms/step - loss: 1.5384 - accuracy: 0.4507 - val_loss: 1.5121 - val_accuracy: 0.4916\n",
      "Epoch 65/600\n",
      "15/15 [==============================] - 0s 4ms/step - loss: 1.5445 - accuracy: 0.4360 - val_loss: 1.5098 - val_accuracy: 0.4932\n",
      "Epoch 66/600\n",
      "15/15 [==============================] - 0s 4ms/step - loss: 1.5290 - accuracy: 0.4568 - val_loss: 1.5078 - val_accuracy: 0.4932\n",
      "Epoch 67/600\n",
      "15/15 [==============================] - 0s 4ms/step - loss: 1.5434 - accuracy: 0.4406 - val_loss: 1.5056 - val_accuracy: 0.4947\n",
      "Epoch 68/600\n",
      "15/15 [==============================] - 0s 4ms/step - loss: 1.5267 - accuracy: 0.4478 - val_loss: 1.5025 - val_accuracy: 0.4962\n",
      "Epoch 69/600\n",
      "15/15 [==============================] - 0s 4ms/step - loss: 1.5274 - accuracy: 0.4440 - val_loss: 1.5000 - val_accuracy: 0.4962\n",
      "Epoch 70/600\n",
      "15/15 [==============================] - 0s 4ms/step - loss: 1.5277 - accuracy: 0.4395 - val_loss: 1.4961 - val_accuracy: 0.4977\n",
      "Epoch 71/600\n",
      "15/15 [==============================] - 0s 4ms/step - loss: 1.5270 - accuracy: 0.4491 - val_loss: 1.4942 - val_accuracy: 0.4977\n",
      "Epoch 72/600\n",
      "15/15 [==============================] - 0s 4ms/step - loss: 1.5040 - accuracy: 0.4662 - val_loss: 1.4919 - val_accuracy: 0.4992\n",
      "Epoch 73/600\n",
      "15/15 [==============================] - 0s 5ms/step - loss: 1.5098 - accuracy: 0.4528 - val_loss: 1.4896 - val_accuracy: 0.4992\n",
      "Epoch 74/600\n",
      "15/15 [==============================] - 0s 5ms/step - loss: 1.4877 - accuracy: 0.4576 - val_loss: 1.4875 - val_accuracy: 0.4962\n",
      "Epoch 75/600\n",
      "15/15 [==============================] - 0s 5ms/step - loss: 1.5112 - accuracy: 0.4523 - val_loss: 1.4851 - val_accuracy: 0.5008\n",
      "Epoch 76/600\n",
      "15/15 [==============================] - 0s 5ms/step - loss: 1.4951 - accuracy: 0.4611 - val_loss: 1.4817 - val_accuracy: 0.5008\n",
      "Epoch 77/600\n",
      "15/15 [==============================] - 0s 5ms/step - loss: 1.4881 - accuracy: 0.4624 - val_loss: 1.4791 - val_accuracy: 0.5053\n",
      "Epoch 78/600\n",
      "15/15 [==============================] - 0s 4ms/step - loss: 1.4804 - accuracy: 0.4691 - val_loss: 1.4774 - val_accuracy: 0.5053\n",
      "Epoch 79/600\n",
      "15/15 [==============================] - 0s 4ms/step - loss: 1.4882 - accuracy: 0.4598 - val_loss: 1.4763 - val_accuracy: 0.4962\n",
      "Epoch 80/600\n",
      "15/15 [==============================] - 0s 4ms/step - loss: 1.4677 - accuracy: 0.4733 - val_loss: 1.4746 - val_accuracy: 0.4947\n",
      "Epoch 81/600\n",
      "15/15 [==============================] - 0s 4ms/step - loss: 1.4667 - accuracy: 0.4744 - val_loss: 1.4723 - val_accuracy: 0.4962\n",
      "Epoch 82/600\n",
      "15/15 [==============================] - 0s 4ms/step - loss: 1.4801 - accuracy: 0.4675 - val_loss: 1.4700 - val_accuracy: 0.4947\n",
      "Epoch 83/600\n",
      "15/15 [==============================] - 0s 4ms/step - loss: 1.4728 - accuracy: 0.4784 - val_loss: 1.4677 - val_accuracy: 0.4977\n",
      "Epoch 84/600\n",
      "15/15 [==============================] - 0s 4ms/step - loss: 1.4545 - accuracy: 0.4827 - val_loss: 1.4651 - val_accuracy: 0.4977\n",
      "Epoch 85/600\n",
      "15/15 [==============================] - 0s 4ms/step - loss: 1.4581 - accuracy: 0.4781 - val_loss: 1.4638 - val_accuracy: 0.4977\n",
      "Epoch 86/600\n",
      "15/15 [==============================] - 0s 4ms/step - loss: 1.4570 - accuracy: 0.4765 - val_loss: 1.4630 - val_accuracy: 0.4962\n",
      "Epoch 87/600\n",
      "15/15 [==============================] - 0s 4ms/step - loss: 1.4483 - accuracy: 0.4867 - val_loss: 1.4617 - val_accuracy: 0.4977\n",
      "Epoch 88/600\n",
      "15/15 [==============================] - 0s 4ms/step - loss: 1.4561 - accuracy: 0.4891 - val_loss: 1.4611 - val_accuracy: 0.4947\n",
      "Epoch 89/600\n",
      "15/15 [==============================] - 0s 4ms/step - loss: 1.4422 - accuracy: 0.4797 - val_loss: 1.4594 - val_accuracy: 0.5008\n",
      "Epoch 90/600\n",
      "15/15 [==============================] - 0s 4ms/step - loss: 1.4420 - accuracy: 0.4904 - val_loss: 1.4578 - val_accuracy: 0.4977\n",
      "Epoch 91/600\n",
      "15/15 [==============================] - 0s 4ms/step - loss: 1.4339 - accuracy: 0.4888 - val_loss: 1.4556 - val_accuracy: 0.5008\n",
      "Epoch 92/600\n",
      "15/15 [==============================] - 0s 4ms/step - loss: 1.4253 - accuracy: 0.4872 - val_loss: 1.4536 - val_accuracy: 0.4992\n",
      "Epoch 93/600\n",
      "15/15 [==============================] - 0s 4ms/step - loss: 1.4262 - accuracy: 0.5003 - val_loss: 1.4534 - val_accuracy: 0.5038\n",
      "Epoch 94/600\n",
      "15/15 [==============================] - 0s 5ms/step - loss: 1.4182 - accuracy: 0.4957 - val_loss: 1.4527 - val_accuracy: 0.5038\n",
      "Epoch 95/600\n",
      "15/15 [==============================] - 0s 5ms/step - loss: 1.4219 - accuracy: 0.4877 - val_loss: 1.4508 - val_accuracy: 0.5053\n",
      "Epoch 96/600\n",
      "15/15 [==============================] - 0s 4ms/step - loss: 1.4206 - accuracy: 0.4973 - val_loss: 1.4495 - val_accuracy: 0.5068\n",
      "Epoch 97/600\n",
      "15/15 [==============================] - 0s 4ms/step - loss: 1.4108 - accuracy: 0.4907 - val_loss: 1.4482 - val_accuracy: 0.5068\n",
      "Epoch 98/600\n",
      "15/15 [==============================] - 0s 4ms/step - loss: 1.4153 - accuracy: 0.4973 - val_loss: 1.4471 - val_accuracy: 0.5068\n",
      "Epoch 99/600\n",
      "15/15 [==============================] - 0s 4ms/step - loss: 1.4075 - accuracy: 0.5040 - val_loss: 1.4452 - val_accuracy: 0.5068\n",
      "Epoch 100/600\n",
      "15/15 [==============================] - 0s 4ms/step - loss: 1.4093 - accuracy: 0.4952 - val_loss: 1.4441 - val_accuracy: 0.5053\n",
      "Epoch 101/600\n",
      "15/15 [==============================] - 0s 4ms/step - loss: 1.4015 - accuracy: 0.5125 - val_loss: 1.4433 - val_accuracy: 0.5023\n",
      "Epoch 102/600\n",
      "15/15 [==============================] - 0s 4ms/step - loss: 1.4107 - accuracy: 0.5008 - val_loss: 1.4420 - val_accuracy: 0.5053\n",
      "Epoch 103/600\n",
      "15/15 [==============================] - 0s 4ms/step - loss: 1.3972 - accuracy: 0.5085 - val_loss: 1.4405 - val_accuracy: 0.5084\n",
      "Epoch 104/600\n",
      "15/15 [==============================] - 0s 4ms/step - loss: 1.3954 - accuracy: 0.5107 - val_loss: 1.4395 - val_accuracy: 0.5068\n",
      "Epoch 105/600\n",
      "15/15 [==============================] - 0s 4ms/step - loss: 1.3937 - accuracy: 0.5088 - val_loss: 1.4381 - val_accuracy: 0.5053\n",
      "Epoch 106/600\n",
      "15/15 [==============================] - 0s 4ms/step - loss: 1.3895 - accuracy: 0.5059 - val_loss: 1.4375 - val_accuracy: 0.5053\n",
      "Epoch 107/600\n",
      "15/15 [==============================] - 0s 4ms/step - loss: 1.3880 - accuracy: 0.5157 - val_loss: 1.4349 - val_accuracy: 0.5068\n",
      "Epoch 108/600\n",
      "15/15 [==============================] - 0s 4ms/step - loss: 1.3939 - accuracy: 0.5059 - val_loss: 1.4339 - val_accuracy: 0.5068\n",
      "Epoch 109/600\n",
      "15/15 [==============================] - 0s 4ms/step - loss: 1.3844 - accuracy: 0.5032 - val_loss: 1.4330 - val_accuracy: 0.5114\n",
      "Epoch 110/600\n",
      "15/15 [==============================] - 0s 5ms/step - loss: 1.3801 - accuracy: 0.5045 - val_loss: 1.4313 - val_accuracy: 0.5099\n",
      "Epoch 111/600\n",
      "15/15 [==============================] - 0s 4ms/step - loss: 1.3821 - accuracy: 0.5125 - val_loss: 1.4316 - val_accuracy: 0.5099\n",
      "Epoch 112/600\n",
      "15/15 [==============================] - 0s 4ms/step - loss: 1.3631 - accuracy: 0.5203 - val_loss: 1.4305 - val_accuracy: 0.5114\n",
      "Epoch 113/600\n",
      "15/15 [==============================] - 0s 4ms/step - loss: 1.3708 - accuracy: 0.5112 - val_loss: 1.4300 - val_accuracy: 0.5114\n",
      "Epoch 114/600\n",
      "15/15 [==============================] - 0s 5ms/step - loss: 1.3737 - accuracy: 0.5133 - val_loss: 1.4276 - val_accuracy: 0.5114\n",
      "Epoch 115/600\n",
      "15/15 [==============================] - 0s 4ms/step - loss: 1.3610 - accuracy: 0.5195 - val_loss: 1.4272 - val_accuracy: 0.5145\n",
      "Epoch 116/600\n",
      "15/15 [==============================] - 0s 4ms/step - loss: 1.3464 - accuracy: 0.5187 - val_loss: 1.4264 - val_accuracy: 0.5129\n",
      "Epoch 117/600\n",
      "15/15 [==============================] - 0s 5ms/step - loss: 1.3587 - accuracy: 0.5181 - val_loss: 1.4254 - val_accuracy: 0.5175\n",
      "Epoch 118/600\n",
      "15/15 [==============================] - 0s 4ms/step - loss: 1.3395 - accuracy: 0.5299 - val_loss: 1.4249 - val_accuracy: 0.5175\n",
      "Epoch 119/600\n",
      "15/15 [==============================] - 0s 4ms/step - loss: 1.3533 - accuracy: 0.5280 - val_loss: 1.4243 - val_accuracy: 0.5175\n",
      "Epoch 120/600\n",
      "15/15 [==============================] - 0s 4ms/step - loss: 1.3312 - accuracy: 0.5272 - val_loss: 1.4215 - val_accuracy: 0.5175\n",
      "Epoch 121/600\n",
      "15/15 [==============================] - 0s 4ms/step - loss: 1.3404 - accuracy: 0.5221 - val_loss: 1.4212 - val_accuracy: 0.5190\n",
      "Epoch 122/600\n",
      "15/15 [==============================] - 0s 4ms/step - loss: 1.3499 - accuracy: 0.5291 - val_loss: 1.4211 - val_accuracy: 0.5160\n",
      "Epoch 123/600\n",
      "15/15 [==============================] - 0s 4ms/step - loss: 1.3346 - accuracy: 0.5341 - val_loss: 1.4219 - val_accuracy: 0.5160\n",
      "Epoch 124/600\n",
      "15/15 [==============================] - 0s 5ms/step - loss: 1.3347 - accuracy: 0.5179 - val_loss: 1.4213 - val_accuracy: 0.5175\n",
      "Epoch 125/600\n",
      "15/15 [==============================] - 0s 4ms/step - loss: 1.3265 - accuracy: 0.5402 - val_loss: 1.4198 - val_accuracy: 0.5175\n",
      "Epoch 126/600\n",
      "15/15 [==============================] - 0s 4ms/step - loss: 1.3299 - accuracy: 0.5349 - val_loss: 1.4195 - val_accuracy: 0.5175\n",
      "Epoch 127/600\n",
      "15/15 [==============================] - 0s 4ms/step - loss: 1.3078 - accuracy: 0.5410 - val_loss: 1.4182 - val_accuracy: 0.5160\n",
      "Epoch 128/600\n",
      "15/15 [==============================] - 0s 4ms/step - loss: 1.3267 - accuracy: 0.5328 - val_loss: 1.4172 - val_accuracy: 0.5175\n",
      "Epoch 129/600\n",
      "15/15 [==============================] - 0s 4ms/step - loss: 1.3210 - accuracy: 0.5413 - val_loss: 1.4157 - val_accuracy: 0.5160\n",
      "Epoch 130/600\n",
      "15/15 [==============================] - 0s 4ms/step - loss: 1.3121 - accuracy: 0.5413 - val_loss: 1.4152 - val_accuracy: 0.5175\n",
      "Epoch 131/600\n",
      "15/15 [==============================] - 0s 4ms/step - loss: 1.3058 - accuracy: 0.5434 - val_loss: 1.4157 - val_accuracy: 0.5160\n",
      "Epoch 132/600\n",
      "15/15 [==============================] - 0s 5ms/step - loss: 1.3020 - accuracy: 0.5418 - val_loss: 1.4145 - val_accuracy: 0.5160\n",
      "Epoch 133/600\n",
      "15/15 [==============================] - 0s 5ms/step - loss: 1.2971 - accuracy: 0.5506 - val_loss: 1.4141 - val_accuracy: 0.5114\n",
      "Epoch 134/600\n",
      "15/15 [==============================] - 0s 4ms/step - loss: 1.3184 - accuracy: 0.5394 - val_loss: 1.4140 - val_accuracy: 0.5129\n",
      "Epoch 135/600\n",
      "15/15 [==============================] - 0s 5ms/step - loss: 1.3178 - accuracy: 0.5328 - val_loss: 1.4129 - val_accuracy: 0.5129\n",
      "Epoch 136/600\n",
      "15/15 [==============================] - 0s 5ms/step - loss: 1.2961 - accuracy: 0.5514 - val_loss: 1.4118 - val_accuracy: 0.5145\n",
      "Epoch 137/600\n",
      "15/15 [==============================] - 0s 5ms/step - loss: 1.2928 - accuracy: 0.5498 - val_loss: 1.4119 - val_accuracy: 0.5129\n",
      "Epoch 138/600\n",
      "15/15 [==============================] - 0s 4ms/step - loss: 1.2903 - accuracy: 0.5517 - val_loss: 1.4121 - val_accuracy: 0.5145\n",
      "Epoch 139/600\n",
      "15/15 [==============================] - 0s 4ms/step - loss: 1.2859 - accuracy: 0.5538 - val_loss: 1.4123 - val_accuracy: 0.5145\n",
      "Epoch 140/600\n",
      "15/15 [==============================] - 0s 5ms/step - loss: 1.2959 - accuracy: 0.5413 - val_loss: 1.4121 - val_accuracy: 0.5145\n",
      "Epoch 141/600\n",
      "15/15 [==============================] - 0s 4ms/step - loss: 1.2829 - accuracy: 0.5442 - val_loss: 1.4131 - val_accuracy: 0.5114\n",
      "Epoch 142/600\n",
      "15/15 [==============================] - 0s 4ms/step - loss: 1.2779 - accuracy: 0.5517 - val_loss: 1.4116 - val_accuracy: 0.5129\n",
      "Epoch 143/600\n",
      "15/15 [==============================] - 0s 4ms/step - loss: 1.2748 - accuracy: 0.5557 - val_loss: 1.4101 - val_accuracy: 0.5145\n",
      "Epoch 144/600\n",
      "15/15 [==============================] - 0s 5ms/step - loss: 1.3016 - accuracy: 0.5448 - val_loss: 1.4091 - val_accuracy: 0.5099\n",
      "Epoch 145/600\n",
      "15/15 [==============================] - 0s 4ms/step - loss: 1.2684 - accuracy: 0.5552 - val_loss: 1.4078 - val_accuracy: 0.5084\n",
      "Epoch 146/600\n",
      "15/15 [==============================] - 0s 4ms/step - loss: 1.2795 - accuracy: 0.5488 - val_loss: 1.4085 - val_accuracy: 0.5099\n",
      "Epoch 147/600\n",
      "15/15 [==============================] - 0s 4ms/step - loss: 1.2719 - accuracy: 0.5618 - val_loss: 1.4093 - val_accuracy: 0.5160\n",
      "Epoch 148/600\n",
      "15/15 [==============================] - 0s 4ms/step - loss: 1.2590 - accuracy: 0.5594 - val_loss: 1.4066 - val_accuracy: 0.5129\n",
      "Epoch 149/600\n",
      "15/15 [==============================] - 0s 4ms/step - loss: 1.2680 - accuracy: 0.5594 - val_loss: 1.4072 - val_accuracy: 0.5099\n",
      "Epoch 150/600\n",
      "15/15 [==============================] - 0s 4ms/step - loss: 1.2481 - accuracy: 0.5648 - val_loss: 1.4063 - val_accuracy: 0.5114\n",
      "Epoch 151/600\n",
      "15/15 [==============================] - 0s 4ms/step - loss: 1.2652 - accuracy: 0.5530 - val_loss: 1.4068 - val_accuracy: 0.5129\n",
      "Epoch 152/600\n",
      "15/15 [==============================] - 0s 4ms/step - loss: 1.2670 - accuracy: 0.5570 - val_loss: 1.4065 - val_accuracy: 0.5145\n",
      "Epoch 153/600\n",
      "15/15 [==============================] - 0s 4ms/step - loss: 1.2492 - accuracy: 0.5621 - val_loss: 1.4059 - val_accuracy: 0.5160\n",
      "Epoch 154/600\n",
      "15/15 [==============================] - 0s 4ms/step - loss: 1.2495 - accuracy: 0.5669 - val_loss: 1.4046 - val_accuracy: 0.5129\n",
      "Epoch 155/600\n",
      "15/15 [==============================] - 0s 5ms/step - loss: 1.2292 - accuracy: 0.5778 - val_loss: 1.4046 - val_accuracy: 0.5129\n",
      "Epoch 156/600\n",
      "15/15 [==============================] - 0s 4ms/step - loss: 1.2394 - accuracy: 0.5789 - val_loss: 1.4028 - val_accuracy: 0.5160\n",
      "Epoch 157/600\n",
      "15/15 [==============================] - 0s 4ms/step - loss: 1.2489 - accuracy: 0.5605 - val_loss: 1.4034 - val_accuracy: 0.5145\n",
      "Epoch 158/600\n",
      "15/15 [==============================] - 0s 4ms/step - loss: 1.2490 - accuracy: 0.5728 - val_loss: 1.4024 - val_accuracy: 0.5129\n",
      "Epoch 159/600\n",
      "15/15 [==============================] - 0s 4ms/step - loss: 1.2375 - accuracy: 0.5677 - val_loss: 1.4015 - val_accuracy: 0.5129\n",
      "Epoch 160/600\n",
      "15/15 [==============================] - 0s 4ms/step - loss: 1.2293 - accuracy: 0.5802 - val_loss: 1.4013 - val_accuracy: 0.5129\n"
     ]
    },
    {
     "data": {
      "text/plain": [
       "<tensorflow.python.keras.callbacks.History at 0x220fefb5f08>"
      ]
     },
     "execution_count": 53,
     "metadata": {},
     "output_type": "execute_result"
    }
   ],
   "source": [
    "model.fit(x=X_train, y=y_train, validation_data=(X_test, y_test), epochs=600, batch_size=64, callbacks=[callback])"
   ]
  },
  {
   "cell_type": "code",
   "execution_count": 54,
   "metadata": {
    "tags": []
   },
   "outputs": [],
   "source": [
    "pred = model.predict(X_test)"
   ]
  },
  {
   "cell_type": "code",
   "execution_count": 64,
   "metadata": {},
   "outputs": [
    {
     "name": "stdout",
     "output_type": "stream",
     "text": [
      "               precision    recall  f1-score   support\n",
      "\n",
      "   Electronic       0.38      0.45      0.41        75\n",
      " Experimental       0.11      0.14      0.12        29\n",
      "         Folk       0.64      0.65      0.64       118\n",
      "      Hip-Hop       0.60      0.62      0.61        87\n",
      " Instrumental       0.59      0.54      0.57        81\n",
      "International       0.42      0.49      0.45        65\n",
      "          Pop       0.44      0.28      0.34        87\n",
      "         Rock       0.60      0.59      0.60       115\n",
      "\n",
      "     accuracy                           0.51       657\n",
      "    macro avg       0.47      0.47      0.47       657\n",
      " weighted avg       0.52      0.51      0.51       657\n",
      "\n"
     ]
    }
   ],
   "source": [
    "print(classification_report(converter.inverse_transform(np.argmax(y_test, axis=1)), converter.inverse_transform(np.argmax(pred, axis=1))))"
   ]
  },
  {
   "cell_type": "code",
   "execution_count": 66,
   "metadata": {},
   "outputs": [
    {
     "name": "stdout",
     "output_type": "stream",
     "text": [
      "[[34  4  2 14  6  3  4  8]\n",
      " [ 2  4  8  2  5  4  0  4]\n",
      " [ 2  6 77  2  9 13  8  1]\n",
      " [19  3  1 54  0  5  2  3]\n",
      " [11  6  9  0 44  7  1  3]\n",
      " [ 8  2  5  8  1 32  4  5]\n",
      " [ 6  6 11  6  6  7 24 21]\n",
      " [ 8  7  8  4  3  6 11 68]]\n"
     ]
    }
   ],
   "source": [
    "print(confusion_matrix(converter.inverse_transform(np.argmax(y_test, axis=1)), converter.inverse_transform(np.argmax(pred, axis=1))))"
   ]
  },
  {
   "cell_type": "code",
   "execution_count": null,
   "metadata": {},
   "outputs": [],
   "source": []
  }
 ],
 "metadata": {
  "kernelspec": {
   "display_name": "Python 3",
   "language": "python",
   "name": "python3"
  },
  "language_info": {
   "codemirror_mode": {
    "name": "ipython",
    "version": 3
   },
   "file_extension": ".py",
   "mimetype": "text/x-python",
   "name": "python",
   "nbconvert_exporter": "python",
   "pygments_lexer": "ipython3",
   "version": "3.8.5"
  }
 },
 "nbformat": 4,
 "nbformat_minor": 5
}
